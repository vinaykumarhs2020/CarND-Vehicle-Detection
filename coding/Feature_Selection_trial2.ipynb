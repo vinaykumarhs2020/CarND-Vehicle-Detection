{
 "cells": [
  {
   "cell_type": "code",
   "execution_count": 1,
   "metadata": {
    "collapsed": true,
    "deletable": true,
    "editable": true
   },
   "outputs": [],
   "source": [
    "%matplotlib inline\n",
    "\n",
    "import matplotlib\n",
    "import numpy as np\n",
    "import matplotlib.pyplot as plt\n",
    "import matplotlib.image as mpimage\n",
    "import cv2\n",
    "import numpy as np\n"
   ]
  },
  {
   "cell_type": "code",
   "execution_count": 2,
   "metadata": {
    "collapsed": false,
    "deletable": true,
    "editable": true
   },
   "outputs": [
    {
     "name": "stdout",
     "output_type": "stream",
     "text": [
      "Dataset Contains: 8792 Vehicle and 8968 Non-Vehicle images\n"
     ]
    }
   ],
   "source": [
    "import glob\n",
    "vehicle_images=glob.glob(\"dataset/vehicles/*/*.png\")\n",
    "non_vehicle_images=glob.glob(\"dataset/non-vehicles/*/*.png\")\n",
    "print(\"Dataset Contains: {} Vehicle and {} Non-Vehicle images\".format(len(vehicle_images),len(non_vehicle_images)))"
   ]
  },
  {
   "cell_type": "code",
   "execution_count": 3,
   "metadata": {
    "collapsed": false,
    "deletable": true,
    "editable": true
   },
   "outputs": [],
   "source": [
    "from skimage.feature import hog\n",
    "def get_features(img,cell_per_block=2,pix_per_cell=8,orient=9, color_hist_bins=32, img_resize=(32,32)):\n",
    "#     returns the feature vector for the image\n",
    "    if(img_resize != (img.shape[0]),img.shape[1]):\n",
    "        img=cv2.resize(img,img_resize)\n",
    "#     get hsv image:\n",
    "    img_hsv=cv2.cvtColor(img,cv2.COLOR_BGR2HSV)\n",
    "#     get hog features for v channel\n",
    "    feat=hog(img_hsv[:,:,2], \n",
    "             orientations=orient, \n",
    "             pixels_per_cell=(pix_per_cell, pix_per_cell), \n",
    "             cells_per_block=(cell_per_block, cell_per_block), \n",
    "             visualise=False, feature_vector=True)\n",
    "#     Histogram of V & S channels only\n",
    "    for i in range(1,3):\n",
    "#         loop over three channels\n",
    "        ch_hist = np.histogram(img[:,:,i],bins=color_hist_bins,range=(0,256))[0]\n",
    "        feat = np.concatenate((feat,ch_hist))\n",
    "    return feat"
   ]
  },
  {
   "cell_type": "markdown",
   "metadata": {
    "deletable": true,
    "editable": true
   },
   "source": [
    "Read the images and create X_raw, y_raw\n"
   ]
  },
  {
   "cell_type": "code",
   "execution_count": 4,
   "metadata": {
    "collapsed": false,
    "deletable": true,
    "editable": true
   },
   "outputs": [],
   "source": [
    "vehicle_features=[]\n",
    "for vehicle_image in vehicle_images:\n",
    "    vehicle_features.append(get_features(cv2.imread(vehicle_image)))\n",
    "non_vehicle_features=[]\n",
    "for non_vehicle_image in non_vehicle_images:\n",
    "    non_vehicle_features.append(get_features(cv2.imread(non_vehicle_image)))\n"
   ]
  },
  {
   "cell_type": "markdown",
   "metadata": {
    "deletable": true,
    "editable": true
   },
   "source": [
    "Scale the X features"
   ]
  },
  {
   "cell_type": "code",
   "execution_count": 5,
   "metadata": {
    "collapsed": false,
    "deletable": true,
    "editable": true
   },
   "outputs": [
    {
     "name": "stderr",
     "output_type": "stream",
     "text": [
      "/root/miniconda3/envs/carnd-term1/lib/python3.5/site-packages/sklearn/cross_validation.py:44: DeprecationWarning: This module was deprecated in version 0.18 in favor of the model_selection module into which all the refactored classes and functions are moved. Also note that the interface of the new CV iterators are different from that of this module. This module will be removed in 0.20.\n",
      "  \"This module will be removed in 0.20.\", DeprecationWarning)\n"
     ]
    }
   ],
   "source": [
    "from sklearn.preprocessing import StandardScaler\n",
    "from sklearn.cross_validation import train_test_split\n",
    "\n",
    "X_raw = np.vstack((vehicle_features,non_vehicle_features)).astype(np.float64)\n",
    "y_raw = np.hstack((np.ones(len(vehicle_features)),np.zeros(len(non_vehicle_features))))\n",
    "\n",
    "stdscaler = StandardScaler().fit(X_raw)\n",
    "X_raw_scaled = stdscaler.transform(X_raw)\n",
    "\n",
    "# Test train split\n",
    "X_train, X_test, y_train, y_test = train_test_split(\n",
    "    X_raw_scaled, y_raw, test_size=0.2, random_state=12)"
   ]
  },
  {
   "cell_type": "markdown",
   "metadata": {
    "deletable": true,
    "editable": true
   },
   "source": [
    "SVM GridSearch CV"
   ]
  },
  {
   "cell_type": "code",
   "execution_count": 6,
   "metadata": {
    "collapsed": false,
    "deletable": true,
    "editable": true
   },
   "outputs": [
    {
     "data": {
      "text/plain": [
       "(3552, 388)"
      ]
     },
     "execution_count": 6,
     "metadata": {},
     "output_type": "execute_result"
    }
   ],
   "source": [
    "X_test.shape"
   ]
  },
  {
   "cell_type": "code",
   "execution_count": 7,
   "metadata": {
    "collapsed": false,
    "deletable": true,
    "editable": true
   },
   "outputs": [
    {
     "data": {
      "text/plain": [
       "GridSearchCV(cv=None, error_score='raise',\n",
       "       estimator=SVC(C=1.0, cache_size=200, class_weight=None, coef0=0.0,\n",
       "  decision_function_shape=None, degree=3, gamma='auto', kernel='rbf',\n",
       "  max_iter=-1, probability=False, random_state=None, shrinking=True,\n",
       "  tol=0.001, verbose=False),\n",
       "       fit_params={}, iid=True, n_jobs=6,\n",
       "       param_grid={'gamma': [0.1, 0.001, 0.0001], 'C': [1, 10, 100, 1000], 'kernel': ('linear', 'rbf')},\n",
       "       pre_dispatch='2*n_jobs', refit=True, return_train_score=True,\n",
       "       scoring=None, verbose=0)"
      ]
     },
     "execution_count": 7,
     "metadata": {},
     "output_type": "execute_result"
    }
   ],
   "source": [
    "from sklearn.model_selection import GridSearchCV\n",
    "from sklearn import svm\n",
    "\n",
    "parameters = {'kernel':('linear', 'rbf'), 'C':[1, 10, 100, 1000], 'gamma': [0.1, 0.001,0.0001]}\n",
    "svr = svm.SVC()\n",
    "grid_svc_clf = GridSearchCV(svr, parameters,n_jobs=6)\n",
    "grid_svc_clf.fit(X_train, y_train)"
   ]
  },
  {
   "cell_type": "markdown",
   "metadata": {
    "deletable": true,
    "editable": true
   },
   "source": [
    "Random Forest Classifier"
   ]
  },
  {
   "cell_type": "code",
   "execution_count": 8,
   "metadata": {
    "collapsed": false,
    "deletable": true,
    "editable": true
   },
   "outputs": [
    {
     "data": {
      "text/plain": [
       "GridSearchCV(cv=None, error_score='raise',\n",
       "       estimator=RandomForestClassifier(bootstrap=True, class_weight=None, criterion='gini',\n",
       "            max_depth=None, max_features='auto', max_leaf_nodes=None,\n",
       "            min_impurity_split=1e-07, min_samples_leaf=1,\n",
       "            min_samples_split=2, min_weight_fraction_leaf=0.0,\n",
       "            n_estimators=20, n_jobs=1, oob_score=False, random_state=None,\n",
       "            verbose=0, warm_start=False),\n",
       "       fit_params={}, iid=True, n_jobs=4,\n",
       "       param_grid={'max_features': [1, 3, 10], 'criterion': ['gini', 'entropy'], 'max_depth': [3, None], 'bootstrap': [True, False], 'min_samples_split': [1, 3, 10], 'min_samples_leaf': [1, 3, 10]},\n",
       "       pre_dispatch='2*n_jobs', refit=True, return_train_score=True,\n",
       "       scoring=None, verbose=0)"
      ]
     },
     "execution_count": 8,
     "metadata": {},
     "output_type": "execute_result"
    }
   ],
   "source": [
    "from sklearn.ensemble import RandomForestClassifier\n",
    "# use a full grid over all parameters\n",
    "clf = RandomForestClassifier(n_estimators=20)\n",
    "param_grid = {\"max_depth\": [3, None],\n",
    "              \"max_features\": [1, 3, 10],\n",
    "              \"min_samples_split\": [1, 3, 10],\n",
    "              \"min_samples_leaf\": [1, 3, 10],\n",
    "              \"bootstrap\": [True, False],\n",
    "              \"criterion\": [\"gini\", \"entropy\"]}\n",
    "grid_rf_clf = GridSearchCV(clf, param_grid=param_grid,n_jobs=4)\n",
    "grid_rf_clf.fit(X_train, y_train)"
   ]
  },
  {
   "cell_type": "code",
   "execution_count": 9,
   "metadata": {
    "collapsed": false,
    "deletable": true,
    "editable": true
   },
   "outputs": [],
   "source": [
    "# Utility function to report best scores\n",
    "def report(results, n_top=3):\n",
    "    for i in range(1, n_top + 1):\n",
    "        candidates = np.flatnonzero(results['rank_test_score'] == i)\n",
    "        for candidate in candidates:\n",
    "            print(\"Model with rank: {0}\".format(i))\n",
    "            print(\"Mean validation score: {0:.3f} (std: {1:.3f})\".format(\n",
    "                  results['mean_test_score'][candidate],\n",
    "                  results['std_test_score'][candidate]))\n",
    "            print(\"Parameters: {0}\".format(results['params'][candidate]))\n",
    "            print(\"\")"
   ]
  },
  {
   "cell_type": "markdown",
   "metadata": {
    "deletable": true,
    "editable": true
   },
   "source": [
    "SVM Parameters Report\n"
   ]
  },
  {
   "cell_type": "code",
   "execution_count": 10,
   "metadata": {
    "collapsed": false,
    "deletable": true,
    "editable": true
   },
   "outputs": [
    {
     "name": "stdout",
     "output_type": "stream",
     "text": [
      "GridSearchCV results for SVC\n",
      "Model with rank: 1\n",
      "Mean validation score: 0.992 (std: 0.001)\n",
      "Parameters: {'gamma': 0.001, 'C': 100, 'kernel': 'rbf'}\n",
      "\n",
      "Model with rank: 1\n",
      "Mean validation score: 0.992 (std: 0.001)\n",
      "Parameters: {'gamma': 0.001, 'C': 1000, 'kernel': 'rbf'}\n",
      "\n",
      "Model with rank: 3\n",
      "Mean validation score: 0.992 (std: 0.001)\n",
      "Parameters: {'gamma': 0.001, 'C': 10, 'kernel': 'rbf'}\n",
      "\n"
     ]
    }
   ],
   "source": [
    "print(\"GridSearchCV results for SVC\")\n",
    "report(grid_svc_clf.cv_results_)"
   ]
  },
  {
   "cell_type": "markdown",
   "metadata": {
    "deletable": true,
    "editable": true
   },
   "source": [
    "RF Parameters Report"
   ]
  },
  {
   "cell_type": "code",
   "execution_count": 11,
   "metadata": {
    "collapsed": false,
    "deletable": true,
    "editable": true
   },
   "outputs": [
    {
     "name": "stdout",
     "output_type": "stream",
     "text": [
      "GridSearchCV results for Random Forest Classifier\n",
      "Model with rank: 1\n",
      "Mean validation score: 0.982 (std: 0.001)\n",
      "Parameters: {'max_features': 10, 'criterion': 'entropy', 'max_depth': None, 'bootstrap': False, 'min_samples_split': 10, 'min_samples_leaf': 1}\n",
      "\n",
      "Model with rank: 2\n",
      "Mean validation score: 0.982 (std: 0.002)\n",
      "Parameters: {'max_features': 10, 'criterion': 'entropy', 'max_depth': None, 'bootstrap': False, 'min_samples_split': 3, 'min_samples_leaf': 3}\n",
      "\n",
      "Model with rank: 3\n",
      "Mean validation score: 0.982 (std: 0.001)\n",
      "Parameters: {'max_features': 10, 'criterion': 'entropy', 'max_depth': None, 'bootstrap': False, 'min_samples_split': 10, 'min_samples_leaf': 3}\n",
      "\n"
     ]
    }
   ],
   "source": [
    "print(\"GridSearchCV results for Random Forest Classifier\")\n",
    "report(grid_rf_clf.cv_results_)"
   ]
  },
  {
   "cell_type": "markdown",
   "metadata": {
    "deletable": true,
    "editable": true
   },
   "source": [
    "Set the best classifiers"
   ]
  },
  {
   "cell_type": "code",
   "execution_count": 12,
   "metadata": {
    "collapsed": false,
    "deletable": true,
    "editable": true
   },
   "outputs": [],
   "source": [
    "from sklearn import svm\n",
    "from sklearn.ensemble import RandomForestClassifier\n",
    "\n",
    "svm_clf=svm.SVC(kernel='rbf',C=10,gamma=0.001)\n",
    "rf_clf=RandomForestClassifier(n_estimators=20,bootstrap=False, min_samples_leaf=3,criterion='entropy',max_depth=None, min_samples_split=3, max_features=10)"
   ]
  },
  {
   "cell_type": "markdown",
   "metadata": {
    "deletable": true,
    "editable": true
   },
   "source": [
    "Try Voting Classifier"
   ]
  },
  {
   "cell_type": "code",
   "execution_count": 13,
   "metadata": {
    "collapsed": false,
    "deletable": true,
    "editable": true
   },
   "outputs": [
    {
     "name": "stdout",
     "output_type": "stream",
     "text": [
      "Accuracy: 0.992962 (+/- 0.001220) [SVM]\n"
     ]
    },
    {
     "name": "stderr",
     "output_type": "stream",
     "text": [
      "[Parallel(n_jobs=6)]: Done   5 out of   5 | elapsed:    9.9s finished\n"
     ]
    },
    {
     "name": "stdout",
     "output_type": "stream",
     "text": [
      "Accuracy: 0.981278 (+/- 0.001970) [Random Forest]\n"
     ]
    },
    {
     "name": "stderr",
     "output_type": "stream",
     "text": [
      "[Parallel(n_jobs=6)]: Done   5 out of   5 | elapsed:    4.1s finished\n",
      "/root/miniconda3/envs/carnd-term1/lib/python3.5/site-packages/sklearn/externals/joblib/parallel.py:540: UserWarning: Multiprocessing-backed parallel loops cannot be nested, setting n_jobs=1\n",
      "  **self._backend_args)\n",
      "/root/miniconda3/envs/carnd-term1/lib/python3.5/site-packages/sklearn/externals/joblib/parallel.py:540: UserWarning: Multiprocessing-backed parallel loops cannot be nested, setting n_jobs=1\n",
      "  **self._backend_args)\n",
      "/root/miniconda3/envs/carnd-term1/lib/python3.5/site-packages/sklearn/externals/joblib/parallel.py:540: UserWarning: Multiprocessing-backed parallel loops cannot be nested, setting n_jobs=1\n",
      "  **self._backend_args)\n",
      "/root/miniconda3/envs/carnd-term1/lib/python3.5/site-packages/sklearn/externals/joblib/parallel.py:540: UserWarning: Multiprocessing-backed parallel loops cannot be nested, setting n_jobs=1\n",
      "  **self._backend_args)\n",
      "/root/miniconda3/envs/carnd-term1/lib/python3.5/site-packages/sklearn/externals/joblib/parallel.py:540: UserWarning: Multiprocessing-backed parallel loops cannot be nested, setting n_jobs=1\n",
      "  **self._backend_args)\n"
     ]
    },
    {
     "name": "stdout",
     "output_type": "stream",
     "text": [
      "Accuracy: 0.984938 (+/- 0.003055) [Ensemble]\n"
     ]
    },
    {
     "name": "stderr",
     "output_type": "stream",
     "text": [
      "[Parallel(n_jobs=6)]: Done   5 out of   5 | elapsed:   13.5s finished\n"
     ]
    }
   ],
   "source": [
    "from sklearn.ensemble import VotingClassifier\n",
    "from sklearn.model_selection import cross_val_score\n",
    "\n",
    "vote_clf = VotingClassifier(estimators=[('svm', svm_clf), ('rf', rf_clf)], voting='hard')\n",
    "for clf, label in zip([svm_clf, rf_clf, vote_clf], ['SVM', 'Random Forest', 'Ensemble']):\n",
    "    scores = cross_val_score(clf, X_train, y_train, cv=5, scoring='accuracy',n_jobs=6,verbose=1)\n",
    "    print(\"Accuracy: %0.6f (+/- %0.6f) [%s]\" % (scores.mean(), scores.std(), label))"
   ]
  },
  {
   "cell_type": "markdown",
   "metadata": {
    "deletable": true,
    "editable": true
   },
   "source": [
    "Save the models to re-use (model persistance)"
   ]
  },
  {
   "cell_type": "code",
   "execution_count": 14,
   "metadata": {
    "collapsed": false,
    "deletable": true,
    "editable": true
   },
   "outputs": [
    {
     "data": {
      "text/plain": [
       "['dataset2_bkp.pkl']"
      ]
     },
     "execution_count": 14,
     "metadata": {},
     "output_type": "execute_result"
    }
   ],
   "source": [
    "from sklearn.externals import joblib\n",
    "\n",
    "# We need to fit the model again, as cross_val procedure doesn't do it!\n",
    "vote_clf.fit(X_train,y_train)\n",
    "svm_clf.fit(X_train,y_train)\n",
    "rf_clf.fit(X_train, y_train)\n",
    "\n",
    "joblib.dump(vote_clf, 'model_vote2.pkl') \n",
    "joblib.dump(svm_clf,'model_svm2.pkl')\n",
    "joblib.dump(rf_clf,'model_rf2.pkl')\n",
    "joblib.dump(stdscaler, 'stdscaler2.pkl')\n",
    "# Save the data\n",
    "joblib.dump(np.array([X_train, X_test, y_train, y_test]),'dataset2_bkp.pkl')"
   ]
  },
  {
   "cell_type": "code",
   "execution_count": null,
   "metadata": {
    "collapsed": true,
    "deletable": true,
    "editable": true
   },
   "outputs": [],
   "source": []
  }
 ],
 "metadata": {
  "kernelspec": {
   "display_name": "Python 3",
   "language": "python",
   "name": "python3"
  },
  "language_info": {
   "codemirror_mode": {
    "name": "ipython",
    "version": 3
   },
   "file_extension": ".py",
   "mimetype": "text/x-python",
   "name": "python",
   "nbconvert_exporter": "python",
   "pygments_lexer": "ipython3",
   "version": "3.5.2"
  },
  "widgets": {
   "state": {},
   "version": "1.1.2"
  }
 },
 "nbformat": 4,
 "nbformat_minor": 2
}
