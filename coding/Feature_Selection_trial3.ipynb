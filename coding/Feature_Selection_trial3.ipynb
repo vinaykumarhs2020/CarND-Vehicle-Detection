{
 "cells": [
  {
   "cell_type": "code",
   "execution_count": 18,
   "metadata": {
    "collapsed": true,
    "deletable": true,
    "editable": true
   },
   "outputs": [],
   "source": [
    "%matplotlib inline\n",
    "\n",
    "import matplotlib\n",
    "import numpy as np\n",
    "import matplotlib.pyplot as plt\n",
    "import matplotlib.image as mpimage\n",
    "import cv2\n",
    "import numpy as np\n"
   ]
  },
  {
   "cell_type": "code",
   "execution_count": 19,
   "metadata": {
    "collapsed": false,
    "deletable": true,
    "editable": true
   },
   "outputs": [
    {
     "name": "stdout",
     "output_type": "stream",
     "text": [
      "Dataset Contains: 8792 Vehicle and 8968 Non-Vehicle images\n"
     ]
    }
   ],
   "source": [
    "import glob\n",
    "vehicle_images=glob.glob(\"dataset/vehicles/*/*.png\")\n",
    "non_vehicle_images=glob.glob(\"dataset/non-vehicles/*/*.png\")\n",
    "print(\"Dataset Contains: {} Vehicle and {} Non-Vehicle images\".format(len(vehicle_images),len(non_vehicle_images)))"
   ]
  },
  {
   "cell_type": "code",
   "execution_count": 20,
   "metadata": {
    "collapsed": false,
    "deletable": true,
    "editable": true
   },
   "outputs": [],
   "source": [
    "from skimage.feature import hog\n",
    "def get_features(img,cell_per_block=2,pix_per_cell=8,orient=9, color_hist_bins=32, img_resize=(64,64)):\n",
    "#     returns the feature vector for the image\n",
    "    if(img_resize != (img.shape[0]),img.shape[1]):\n",
    "        img=cv2.resize(img,img_resize)\n",
    "#     get hog features before colorspace conversion\n",
    "    feat=hog(cv2.cvtColor(img,cv2.COLOR_BGR2GRAY), orientations=orient, pixels_per_cell=(pix_per_cell, pix_per_cell), cells_per_block=(cell_per_block, cell_per_block), visualise=False, feature_vector=True)\n",
    "#     Convert to required colorspace\n",
    "    img=cv2.cvtColor(img,cv2.COLOR_BGR2HSV)\n",
    "    for i in range(3):\n",
    "#         loop over three channels\n",
    "        ch_hist = np.histogram(img[:,:,i],bins=color_hist_bins,range=(0,256))[0]\n",
    "        feat = np.concatenate((feat,ch_hist))\n",
    "    return feat"
   ]
  },
  {
   "cell_type": "markdown",
   "metadata": {
    "deletable": true,
    "editable": true
   },
   "source": [
    "Read the images and create X_raw, y_raw\n"
   ]
  },
  {
   "cell_type": "code",
   "execution_count": 21,
   "metadata": {
    "collapsed": false,
    "deletable": true,
    "editable": true
   },
   "outputs": [],
   "source": [
    "vehicle_features=[]\n",
    "for vehicle_image in vehicle_images:\n",
    "    vehicle_features.append(get_features(cv2.imread(vehicle_image)))\n",
    "non_vehicle_features=[]\n",
    "for non_vehicle_image in non_vehicle_images:\n",
    "    non_vehicle_features.append(get_features(cv2.imread(non_vehicle_image)))\n"
   ]
  },
  {
   "cell_type": "markdown",
   "metadata": {
    "deletable": true,
    "editable": true
   },
   "source": [
    "Scale the X features"
   ]
  },
  {
   "cell_type": "code",
   "execution_count": 22,
   "metadata": {
    "collapsed": false,
    "deletable": true,
    "editable": true
   },
   "outputs": [],
   "source": [
    "from sklearn.preprocessing import StandardScaler\n",
    "from sklearn.cross_validation import train_test_split\n",
    "\n",
    "X_raw = np.vstack((vehicle_features,non_vehicle_features)).astype(np.float64)\n",
    "y_raw = np.hstack((np.ones(len(vehicle_features)),np.zeros(len(non_vehicle_features))))\n",
    "\n",
    "stdscaler = StandardScaler().fit(X_raw)\n",
    "X_raw_scaled = stdscaler.transform(X_raw)\n",
    "\n",
    "# Test train split\n",
    "X_train, X_test, y_train, y_test = train_test_split(\n",
    "    X_raw_scaled, y_raw, test_size=0.2, random_state=12)"
   ]
  },
  {
   "cell_type": "code",
   "execution_count": 23,
   "metadata": {
    "collapsed": false
   },
   "outputs": [
    {
     "name": "stdout",
     "output_type": "stream",
     "text": [
      "X_train shape: (14208, 1860)\n",
      "X_test shape: (3552, 1860)\n",
      "y_train shape: (14208,)\n",
      "y_test shape: (3552,)\n"
     ]
    }
   ],
   "source": [
    "# Size of dataset\n",
    "print(\"X_train shape: {}\".format(X_train.shape))\n",
    "print(\"X_test shape: {}\".format(X_test.shape))\n",
    "print(\"y_train shape: {}\".format(y_train.shape))\n",
    "print(\"y_test shape: {}\".format(y_test.shape))"
   ]
  },
  {
   "cell_type": "markdown",
   "metadata": {
    "deletable": true,
    "editable": true
   },
   "source": [
    "SVM GridSearch CV"
   ]
  },
  {
   "cell_type": "code",
   "execution_count": 24,
   "metadata": {
    "collapsed": false,
    "deletable": true,
    "editable": true
   },
   "outputs": [],
   "source": [
    "from sklearn.model_selection import GridSearchCV\n",
    "from sklearn import svm\n",
    "svm_clf=svm.SVC(kernel='rbf',C=10,gamma=0.001)"
   ]
  },
  {
   "cell_type": "markdown",
   "metadata": {
    "deletable": true,
    "editable": true
   },
   "source": [
    "Fit SVM calassifier"
   ]
  },
  {
   "cell_type": "code",
   "execution_count": 25,
   "metadata": {
    "collapsed": false
   },
   "outputs": [
    {
     "data": {
      "text/plain": [
       "SVC(C=10, cache_size=200, class_weight=None, coef0=0.0,\n",
       "  decision_function_shape=None, degree=3, gamma=0.001, kernel='rbf',\n",
       "  max_iter=-1, probability=False, random_state=None, shrinking=True,\n",
       "  tol=0.001, verbose=False)"
      ]
     },
     "execution_count": 25,
     "metadata": {},
     "output_type": "execute_result"
    }
   ],
   "source": [
    "svm_clf.fit(X_train,y_train)"
   ]
  },
  {
   "cell_type": "markdown",
   "metadata": {
    "deletable": true,
    "editable": true
   },
   "source": [
    "Save the model to re-use (model persistance)"
   ]
  },
  {
   "cell_type": "code",
   "execution_count": 26,
   "metadata": {
    "collapsed": false,
    "deletable": true,
    "editable": true
   },
   "outputs": [
    {
     "data": {
      "text/plain": [
       "['dataset3_bkp.pkl']"
      ]
     },
     "execution_count": 26,
     "metadata": {},
     "output_type": "execute_result"
    }
   ],
   "source": [
    "from sklearn.externals import joblib\n",
    "\n",
    "joblib.dump(svm_clf,'model_svm3.pkl')\n",
    "joblib.dump(stdscaler, 'stdscaler3.pkl')\n",
    "# Save the data\n",
    "joblib.dump(np.array([X_train, X_test, y_train, y_test]),'dataset3_bkp.pkl')"
   ]
  },
  {
   "cell_type": "code",
   "execution_count": 27,
   "metadata": {
    "collapsed": false,
    "deletable": true,
    "editable": true
   },
   "outputs": [
    {
     "name": "stdout",
     "output_type": "stream",
     "text": [
      "0.989301801802\n"
     ]
    }
   ],
   "source": [
    "# Print Test accuract:\n",
    "print(svm_clf.score(X_test,y_test))"
   ]
  }
 ],
 "metadata": {
  "kernelspec": {
   "display_name": "Python 3",
   "language": "python",
   "name": "python3"
  },
  "language_info": {
   "codemirror_mode": {
    "name": "ipython",
    "version": 3
   },
   "file_extension": ".py",
   "mimetype": "text/x-python",
   "name": "python",
   "nbconvert_exporter": "python",
   "pygments_lexer": "ipython3",
   "version": "3.5.2"
  },
  "widgets": {
   "state": {},
   "version": "1.1.2"
  }
 },
 "nbformat": 4,
 "nbformat_minor": 2
}
